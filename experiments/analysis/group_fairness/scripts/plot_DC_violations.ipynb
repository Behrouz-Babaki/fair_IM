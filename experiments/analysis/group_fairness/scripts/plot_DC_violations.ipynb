{
 "cells": [
  {
   "cell_type": "code",
   "execution_count": null,
   "metadata": {},
   "outputs": [],
   "source": [
    "import os, json\n",
    "from os.path import join as ojoin"
   ]
  },
  {
   "cell_type": "code",
   "execution_count": null,
   "metadata": {},
   "outputs": [],
   "source": [
    "with open('dc_violations.json') as f:\n",
    "    info = json.load(f)"
   ]
  },
  {
   "cell_type": "code",
   "execution_count": null,
   "metadata": {},
   "outputs": [],
   "source": [
    "violations = dict()\n",
    "for i in info:\n",
    "    for approach in ('mip', 'fairim'):\n",
    "        vlist = violations.setdefault((approach, i['attribute']), [])\n",
    "        violation = i['%s_violation'%approach]\n",
    "        vlist.append(i['%s_violation'%approach])"
   ]
  },
  {
   "cell_type": "code",
   "execution_count": null,
   "metadata": {},
   "outputs": [],
   "source": [
    "%matplotlib inline\n",
    "from matplotlib import pyplot as plt\n",
    "import numpy as np\n",
    "\n",
    "\n",
    "values = []\n",
    "for attribute in ('age', 'gender', 'ethnicity'):\n",
    "    for approach in ('fairim', 'mip'):\n",
    "        values.append(violations[(approach, attribute)])\n",
    "\n",
    "means = [np.mean(v) for v in values]\n",
    "stds = [np.std(v) for v in values]\n",
    "xpos = []\n",
    "for i in range(3):\n",
    "    xpos.append(i)\n",
    "    xpos.append(i + 0.35)\n",
    "\n",
    "bars = plt.bar(xpos, means, yerr=stds, align='center', capsize=4, width=0.35)\n",
    "colors = ['#85caff', '#8fffa0'] * 3\n",
    "for i in range(6):\n",
    "    bars[i].set_color(colors[i])\n",
    "    \n",
    "labels = ('age', 'gender', 'ethnicity')\n",
    "locs = [i + 0.17 for i in range(3)]\n",
    "_ = plt.xticks(locs, labels, fontsize=13)\n",
    "\n",
    "_ = plt.ylabel('degree of violation', fontsize=15)\n",
    "_ = plt.legend(bars[:2], ('fairIM', 'MIP'), bbox_to_anchor=(1, 1.01), loc=2)\n",
    "_ = plt.savefig('images/DC_violations.pdf', bbox_inches='tight')"
   ]
  }
 ],
 "metadata": {
  "kernelspec": {
   "display_name": "Python 3",
   "language": "python",
   "name": "python3"
  },
  "language_info": {
   "codemirror_mode": {
    "name": "ipython",
    "version": 3
   },
   "file_extension": ".py",
   "mimetype": "text/x-python",
   "name": "python",
   "nbconvert_exporter": "python",
   "pygments_lexer": "ipython3",
   "version": "3.7.3"
  }
 },
 "nbformat": 4,
 "nbformat_minor": 2
}
