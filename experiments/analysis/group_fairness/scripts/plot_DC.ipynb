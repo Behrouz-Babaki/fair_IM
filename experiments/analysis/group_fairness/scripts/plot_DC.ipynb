{
 "cells": [
  {
   "cell_type": "code",
   "execution_count": 30,
   "metadata": {},
   "outputs": [],
   "source": [
    "import os\n",
    "from os.path import join as ojoin"
   ]
  },
  {
   "cell_type": "code",
   "execution_count": 31,
   "metadata": {},
   "outputs": [],
   "source": [
    "sim_dir = ojoin('..', 'simulation_results') \n",
    "\n",
    "directories = dict()\n",
    "for approach in ('mip', 'fairim'):\n",
    "    for attribute in ('age', 'gender', 'ethnicity'):\n",
    "        directories[(approach, attribute)] = ojoin(sim_dir, approach, 'dc', attribute)"
   ]
  },
  {
   "cell_type": "code",
   "execution_count": 32,
   "metadata": {},
   "outputs": [],
   "source": [
    "def extract_coverage(fpath):\n",
    "    total_coverage = 0\n",
    "    with open(fpath) as f:\n",
    "        for line in f:\n",
    "            line = line.strip()\n",
    "            if not line: continue\n",
    "            total_coverage += float(line)\n",
    "    return total_coverage\n",
    "\n",
    "def extract_coverage_list(dpath):\n",
    "    coverages = []\n",
    "    for i in range(20):\n",
    "        fpath = ojoin(dpath, 'output_%d.txt'%i)\n",
    "        coverage = extract_coverage(fpath)\n",
    "        coverages.append(coverage)\n",
    "    return coverages"
   ]
  },
  {
   "cell_type": "code",
   "execution_count": 33,
   "metadata": {},
   "outputs": [],
   "source": [
    "coverage_lists = dict()\n",
    "for key in directories.keys():\n",
    "    coverage_lists[key] = extract_coverage_list(directories[key])"
   ]
  },
  {
   "cell_type": "code",
   "execution_count": 34,
   "metadata": {},
   "outputs": [
    {
     "data": {
      "image/png": "[encoded data removed]",
      "text/plain": [
       "<Figure size 432x288 with 1 Axes>"
      ]
     },
     "metadata": {
      "needs_background": "light"
     },
     "output_type": "display_data"
    }
   ],
   "source": [
    "%matplotlib inline\n",
    "from matplotlib import pyplot as plt\n",
    "import numpy as np\n",
    "\n",
    "\n",
    "values = []\n",
    "for attribute in ('age', 'gender', 'ethnicity'):\n",
    "    for approach in ('mip', 'fairim'):\n",
    "        values.append(coverage_lists[(approach, attribute)])\n",
    "\n",
    "means = [np.mean(v) for v in values]\n",
    "stds = [np.std(v) for v in values]\n",
    "xpos = []\n",
    "for i in range(3):\n",
    "    xpos.append(i)\n",
    "    xpos.append(i + 0.35)\n",
    "\n",
    "bars = plt.bar(xpos, means, yerr=stds, align='center', capsize=4, width=0.35)\n",
    "colors = ['#85caff', '#8fffa0'] * 3\n",
    "for i in range(6):\n",
    "    bars[i].set_color(colors[i])\n",
    "    \n",
    "labels = ('age', 'gender', 'ethnicity')\n",
    "locs = [i + 0.17 for i in range(3)]\n",
    "_ = plt.xticks(locs, labels, fontsize=13)\n",
    "\n",
    "_ = plt.ylabel('Coverage', fontsize=15)\n",
    "_ = plt.legend(bars[:2], ('MIP', 'fairIM'), bbox_to_anchor=(1, 1.01), loc=2)\n",
    "_ = plt.savefig('images/DC.svg', bbox_inches='tight')"
   ]
  }
 ],
 "metadata": {
  "kernelspec": {
   "display_name": "Python 3",
   "language": "python",
   "name": "python3"
  },
  "language_info": {
   "codemirror_mode": {
    "name": "ipython",
    "version": 3
   },
   "file_extension": ".py",
   "mimetype": "text/x-python",
   "name": "python",
   "nbconvert_exporter": "python",
   "pygments_lexer": "ipython3",
   "version": "3.7.3"
  }
 },
 "nbformat": 4,
 "nbformat_minor": 2
}
