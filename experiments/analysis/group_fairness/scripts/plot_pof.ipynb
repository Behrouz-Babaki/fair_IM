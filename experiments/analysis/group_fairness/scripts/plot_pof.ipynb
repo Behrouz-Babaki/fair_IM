{
 "cells": [
  {
   "cell_type": "code",
   "execution_count": null,
   "metadata": {},
   "outputs": [],
   "source": [
    "import os\n",
    "from os.path import join as ojoin\n",
    "sim_dir = ojoin('..', 'simulation_results') "
   ]
  },
  {
   "cell_type": "code",
   "execution_count": null,
   "metadata": {},
   "outputs": [],
   "source": [
    "def extract_coverage(fpath):\n",
    "    total_coverage = 0\n",
    "    with open(fpath) as f:\n",
    "        for line in f:\n",
    "            line = line.strip()\n",
    "            if not line: continue\n",
    "            total_coverage += float(line)\n",
    "    return total_coverage"
   ]
  },
  {
   "cell_type": "code",
   "execution_count": null,
   "metadata": {},
   "outputs": [],
   "source": [
    "best_coverage = [extract_coverage(ojoin(sim_dir, 'tim', 'output_%d.txt'%i)) for i in range(20)]"
   ]
  },
  {
   "cell_type": "code",
   "execution_count": null,
   "metadata": {},
   "outputs": [],
   "source": [
    "pof_dict = dict()\n",
    "\n",
    "for attribute in ('age', 'gender', 'ethnicity'):\n",
    "    for method in ('equality', 'equity', 'group_maximin', 'dc'):\n",
    "        output_dir = ojoin(sim_dir, 'mip', method, attribute)\n",
    "        pofs = []\n",
    "        for graph_number in range(20):\n",
    "            output_file = ojoin(output_dir, 'output_%d.txt'%graph_number)\n",
    "            coverage = extract_coverage(output_file)\n",
    "            if coverage > 0:\n",
    "                pof = best_coverage[graph_number] / coverage\n",
    "                pofs.append(pof)\n",
    "        pof_dict[(method, attribute)] = pofs"
   ]
  },
  {
   "cell_type": "code",
   "execution_count": null,
   "metadata": {},
   "outputs": [],
   "source": [
    "%matplotlib inline\n",
    "from matplotlib import pyplot as plt\n",
    "import numpy as np\n",
    "\n",
    "\n",
    "\n",
    "def draw(values, labels, colors, title, ylabel, fpath):\n",
    "    plt.figure(figsize=(3, 2))\n",
    "    means = [np.mean(v) for v in values]\n",
    "    stds = [np.std(v) for v in values]\n",
    "    xpos = range(len(labels))\n",
    "\n",
    "    bars = plt.bar(xpos, means, yerr=stds, width=0.5, align='center', capsize=4)\n",
    "    for i in xpos:\n",
    "        bars[i].set_color(colors[i])\n",
    "    _ = plt.xticks(xpos, labels, rotation=0, fontsize=10)\n",
    "    _ = plt.ylim([0.9, 1.2])\n",
    "    _ = plt.ylabel(ylabel, fontsize=10)\n",
    "    _ = plt.title(title, fontsize=12)\n",
    "    _ = plt.savefig(fpath, bbox_inches='tight')\n",
    "    "
   ]
  },
  {
   "cell_type": "code",
   "execution_count": null,
   "metadata": {},
   "outputs": [],
   "source": [
    "labels = ['equality', 'equity', 'group\\nmaximin', 'diversity']\n",
    "colors = ['#8fffa0'] * 4\n",
    "\n",
    "for attribute in ('age', 'gender', 'ethnicity'):\n",
    "    values = [np.array(pof_dict[(method, attribute)]) \n",
    "              for method in ('equality', 'equity', 'group_maximin', 'dc')]\n",
    "\n",
    "    title = attribute[0].upper() + attribute[1:]\n",
    "    fpath = 'images/mip_pof/%s.pdf'%attribute\n",
    "    draw(values, labels, colors, title, 'Price of Fairness', fpath)"
   ]
  }
 ],
 "metadata": {
  "kernelspec": {
   "display_name": "Python 3",
   "language": "python",
   "name": "python3"
  },
  "language_info": {
   "codemirror_mode": {
    "name": "ipython",
    "version": 3
   },
   "file_extension": ".py",
   "mimetype": "text/x-python",
   "name": "python",
   "nbconvert_exporter": "python",
   "pygments_lexer": "ipython3",
   "version": "3.7.3"
  }
 },
 "nbformat": 4,
 "nbformat_minor": 2
}
