{
 "cells": [
  {
   "cell_type": "code",
   "execution_count": null,
   "metadata": {},
   "outputs": [],
   "source": [
    "import os, json, pickle\n",
    "from os.path import join as ojoin"
   ]
  },
  {
   "cell_type": "code",
   "execution_count": null,
   "metadata": {},
   "outputs": [],
   "source": [
    "sim_dir = ojoin('..', 'simulation_results') \n",
    "graph_dir = ojoin('..', '..', '..', '..', 'code', 'fairim', 'networks')\n"
   ]
  },
  {
   "cell_type": "code",
   "execution_count": null,
   "metadata": {},
   "outputs": [],
   "source": [
    "def extract_min_coverage(fpath, gpath, attribute, values):\n",
    "    coverages = []\n",
    "    with open(fpath) as f:\n",
    "        for line in f:\n",
    "            line = line.strip()\n",
    "            if not line: continue\n",
    "            coverages.append(float(line))\n",
    "    assert len(coverages) == 500\n",
    "    \n",
    "    # exclude the cases where all simulated influences are zero\n",
    "    if sum(coverages) == 0:\n",
    "        return None\n",
    "    \n",
    "    with open(gpath, 'rb') as f:\n",
    "        graph = pickle.load(f)\n",
    "    \n",
    "    relative_group_coverages = []\n",
    "    for value in values:\n",
    "        subgroup_indices = [nodeid for nodeid, attr_dict in graph.nodes(data=True) \n",
    "                            if attr_dict[attribute] == value]    \n",
    "        rgc = sum([coverages[i] for i in subgroup_indices]) / len(subgroup_indices)\n",
    "        relative_group_coverages.append(rgc)\n",
    "        \n",
    "    return min(relative_group_coverages)"
   ]
  },
  {
   "cell_type": "code",
   "execution_count": null,
   "metadata": {},
   "outputs": [],
   "source": [
    "def get_min_coverage_dict():\n",
    "    min_coverage_dict = dict()\n",
    "\n",
    "    for attribute in ('age', 'gender', 'ethnicity'):\n",
    "        values = attribute_values[attribute]\n",
    "        mc_list = []\n",
    "        for graph_number in range(20):\n",
    "            fpath = ojoin(sim_dir, 'tim', 'output_%d.txt'%graph_number)\n",
    "            gpath = ojoin(graph_dir, 'graph_spa_500_%d.pickle'%graph_number)\n",
    "            min_coverage = extract_min_coverage(fpath, gpath, attribute, values)\n",
    "            mc_list.append(min_coverage)\n",
    "        min_coverage_dict[('tim', attribute)] = mc_list\n",
    "        \n",
    "    for problem in ('group_maximin', 'dc', 'equality', 'equity'):\n",
    "        for attribute in ('age', 'gender', 'ethnicity'):\n",
    "            output_dir = ojoin(sim_dir, 'mip', problem, attribute)\n",
    "            values = attribute_values[attribute]\n",
    "            mc_list = []\n",
    "            for graph_number in range(20):\n",
    "                fpath = ojoin(output_dir, 'output_%d.txt'%graph_number)\n",
    "                gpath = ojoin(graph_dir, 'graph_spa_500_%d.pickle'%graph_number)\n",
    "                min_coverage = extract_min_coverage(fpath, gpath, attribute, values)\n",
    "                if min_coverage is not None:\n",
    "                    mc_list.append(min_coverage)\n",
    "            min_coverage_dict[problem, attribute] = mc_list\n",
    "    \n",
    "    return min_coverage_dict"
   ]
  },
  {
   "cell_type": "code",
   "execution_count": null,
   "metadata": {},
   "outputs": [],
   "source": [
    "%matplotlib inline\n",
    "from matplotlib import pyplot as plt\n",
    "import numpy as np\n",
    "\n",
    "\n",
    "\n",
    "def draw(values, labels, colors, title, ylabel, fpath, ylim=None, figsize=None):\n",
    "    if figsize is None:\n",
    "        figsize=(3.5, 2)\n",
    "    plt.figure(figsize=figsize)\n",
    "    means = [np.mean(v) for v in values]\n",
    "    stds = [np.std(v) for v in values]\n",
    "    xpos = range(len(labels))\n",
    "\n",
    "    bars = plt.bar(xpos, means, yerr=stds, width=0.5, align='center', capsize=4)\n",
    "    for i in xpos:\n",
    "        bars[i].set_color(colors[i])\n",
    "    _ = plt.xticks(xpos, labels, rotation=0, fontsize=10)\n",
    "    if ylim:\n",
    "        _ = plt.ylim(ylim)\n",
    "    _ = plt.ylabel(ylabel, fontsize=10)\n",
    "    _ = plt.title(title, fontsize=12)\n",
    "    _ = plt.savefig(fpath, bbox_inches='tight')\n",
    "    "
   ]
  },
  {
   "cell_type": "code",
   "execution_count": null,
   "metadata": {},
   "outputs": [],
   "source": [
    "with open('attribute_values.json') as f:\n",
    "    attribute_values = json.load(f)\n",
    "min_coverage_dict = get_min_coverage_dict()\n",
    "\n",
    "labels = ['tim', 'equality', 'equity', 'maximin', 'diversity']\n",
    "colors = ['#ff85d0'] + ['#8fffa0'] * 4\n",
    "\n",
    "### !!! NOTE! The labels and names of directories do not match !!!\n",
    "for attribute in ('age', 'gender', 'ethnicity'):\n",
    "    values = [np.array(min_coverage_dict[(method, attribute)]) \n",
    "              for method in ('tim', 'equity', 'equality', 'group_maximin', 'dc')]\n",
    "    title = attribute[0].upper() + attribute[1:]\n",
    "    fpath = 'images/min_coverage/%s.pdf'%attribute\n",
    "    draw(values, labels, colors, title, 'Minimum Relative Coverage', fpath, figsize=(4, 2.5))"
   ]
  }
 ],
 "metadata": {
  "kernelspec": {
   "display_name": "Python 3",
   "language": "python",
   "name": "python3"
  },
  "language_info": {
   "codemirror_mode": {
    "name": "ipython",
    "version": 3
   },
   "file_extension": ".py",
   "mimetype": "text/x-python",
   "name": "python",
   "nbconvert_exporter": "python",
   "pygments_lexer": "ipython3",
   "version": "3.7.3"
  }
 },
 "nbformat": 4,
 "nbformat_minor": 2
}
