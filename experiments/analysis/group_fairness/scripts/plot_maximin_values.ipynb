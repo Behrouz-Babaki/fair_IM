{
 "cells": [
  {
   "cell_type": "code",
   "execution_count": 39,
   "metadata": {},
   "outputs": [],
   "source": [
    "import json\n",
    "\n",
    "with open('maximin_values.json') as f:\n",
    "    mm_list = json.load(f)"
   ]
  },
  {
   "cell_type": "code",
   "execution_count": 40,
   "metadata": {},
   "outputs": [],
   "source": [
    "mm_dict = dict()\n",
    "for approach in ('mip', 'fairim'):\n",
    "    for attribute in ('age', 'gender', 'ethnicity'):\n",
    "        mm_dict[(approach, attribute)] = [i['maximin'] for i in mm_list \n",
    "                                          if (i['method'] == approach and i['attribute'] == attribute)]"
   ]
  },
  {
   "cell_type": "code",
   "execution_count": 42,
   "metadata": {},
   "outputs": [
    {
     "data": {
      "image/png": "[encoded data removed]",
      "text/plain": [
       "<Figure size 432x288 with 1 Axes>"
      ]
     },
     "metadata": {
      "needs_background": "light"
     },
     "output_type": "display_data"
    }
   ],
   "source": [
    "%matplotlib inline\n",
    "from matplotlib import pyplot as plt\n",
    "import numpy as np\n",
    "\n",
    "\n",
    "values = []\n",
    "for attribute in ('age', 'gender', 'ethnicity'):\n",
    "    for approach in ('mip', 'fairim'):\n",
    "        values.append(mm_dict[(approach, attribute)])\n",
    "\n",
    "means = [np.mean(v) for v in values]\n",
    "stds = [np.std(v) for v in values]\n",
    "xpos = []\n",
    "for i in range(3):\n",
    "    xpos.append(i)\n",
    "    xpos.append(i + 0.35)\n",
    "\n",
    "bars = plt.bar(xpos, means, yerr=stds, align='center', capsize=4, width=0.35)\n",
    "colors = ['#85caff', '#8fffa0'] * 3\n",
    "for i in range(6):\n",
    "    bars[i].set_color(colors[i])\n",
    "    \n",
    "labels = ('age', 'gender', 'ethnicity')\n",
    "locs = [i + 0.17 for i in range(3)]\n",
    "_ = plt.xticks(locs, labels, fontsize=13)\n",
    "\n",
    "_ = plt.ylabel('Minimum Group Coverage', fontsize=13)\n",
    "_ = plt.legend(bars[:2], ('MIP', 'fairIM'))\n",
    "_ = plt.savefig('images/minimax.svg', bbox_inches='tight')"
   ]
  }
 ],
 "metadata": {
  "kernelspec": {
   "display_name": "Python 3",
   "language": "python",
   "name": "python3"
  },
  "language_info": {
   "codemirror_mode": {
    "name": "ipython",
    "version": 3
   },
   "file_extension": ".py",
   "mimetype": "text/x-python",
   "name": "python",
   "nbconvert_exporter": "python",
   "pygments_lexer": "ipython3",
   "version": "3.7.3"
  }
 },
 "nbformat": 4,
 "nbformat_minor": 2
}
