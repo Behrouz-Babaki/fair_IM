{
 "cells": [
  {
   "cell_type": "code",
   "execution_count": null,
   "metadata": {},
   "outputs": [],
   "source": [
    "import os\n",
    "from os.path import join as ojoin"
   ]
  },
  {
   "cell_type": "code",
   "execution_count": null,
   "metadata": {},
   "outputs": [],
   "source": [
    "sim_dir = ojoin('..', 'simulation_results') "
   ]
  },
  {
   "cell_type": "code",
   "execution_count": null,
   "metadata": {},
   "outputs": [],
   "source": [
    "directories = dict()\n",
    "directories['tim'] = ojoin(sim_dir, 'tim')\n",
    "problems = dict()\n",
    "problems['fairim'] = ['group_maximin', 'dc']\n",
    "problems['mip'] = problems['fairim'] + ['equality', 'equity']\n",
    "\n",
    "for approach in ('mip', 'fairim'):\n",
    "    for problem in problems[approach]:\n",
    "        for attribute in ('age', 'gender', 'ethnicity'):\n",
    "            directories[(approach, problem, attribute)] = ojoin(sim_dir, approach, problem, attribute)"
   ]
  },
  {
   "cell_type": "code",
   "execution_count": null,
   "metadata": {},
   "outputs": [],
   "source": [
    "def extract_coverage(fpath):\n",
    "    total_coverage = 0\n",
    "    with open(fpath) as f:\n",
    "        for line in f:\n",
    "            line = line.strip()\n",
    "            if not line: continue\n",
    "            total_coverage += float(line)\n",
    "    return total_coverage\n",
    "\n",
    "def extract_coverage_list(dpath):\n",
    "    coverages = []\n",
    "    for i in range(20):\n",
    "        fpath = ojoin(dpath, 'output_%d.txt'%i)\n",
    "        coverage = extract_coverage(fpath)\n",
    "        coverages.append(coverage)\n",
    "    return coverages"
   ]
  },
  {
   "cell_type": "code",
   "execution_count": null,
   "metadata": {},
   "outputs": [],
   "source": [
    "coverage_lists = dict()\n",
    "for key in directories.keys():\n",
    "    coverage_lists[key] = extract_coverage_list(directories[key])"
   ]
  },
  {
   "cell_type": "code",
   "execution_count": null,
   "metadata": {},
   "outputs": [],
   "source": [
    "%matplotlib inline\n",
    "from matplotlib import pyplot as plt\n",
    "import numpy as np\n",
    "\n",
    "\n",
    "\n",
    "def draw(values, labels, colors, title, ylabel, fpath):\n",
    "    plt.figure()\n",
    "    means = [np.mean(v) for v in values]\n",
    "    stds = [np.std(v) for v in values]\n",
    "    xpos = range(len(keys))\n",
    "\n",
    "    bars = plt.bar(xpos, means, yerr=stds, align='center', capsize=4)\n",
    "    for i in xpos:\n",
    "        bars[i].set_color(colors[i])\n",
    "    _ = plt.xticks(xpos, labels, rotation=90, fontsize=12)\n",
    "\n",
    "    _ = plt.ylabel(ylabel, fontsize=15)\n",
    "    _ = plt.title(title, fontsize=18)\n",
    "    _ = plt.savefig(fpath, bbox_inches='tight')\n",
    "    "
   ]
  },
  {
   "cell_type": "markdown",
   "metadata": {},
   "source": [
    "### Plots 1 to 3\n",
    "In the first three plot we present the total coverage obtained by these methods, for groups *age*, *gender*, and *ethinicity*:\n",
    "- tim\n",
    "- equity (MIP)\n",
    "- equality (MIP)\n",
    "- group maximin (MIP)\n",
    "- DC (MIP)\n",
    "\n"
   ]
  },
  {
   "cell_type": "code",
   "execution_count": null,
   "metadata": {},
   "outputs": [],
   "source": [
    "labels = ['tim', 'equality', 'equity', 'group-maximin', 'DC']\n",
    "colors = ['#ff85d0'] + ['#85caff'] * 4\n",
    "\n",
    "for attribtue in ('age', 'gender', 'ethnicity'):\n",
    "    keys = ['tim', ('mip', 'equality', attribtue), ('mip', 'equity', attribtue), \n",
    "            ('mip', 'group_maximin', attribtue), ('mip', 'dc', attribtue)]\n",
    "    values = [np.array(coverage_lists[key]) for key in keys]\n",
    "    title = attribtue[0].upper() + attribtue[1:]\n",
    "    fpath = 'images/mip_coverage/%s.pdf'%attribtue\n",
    "    draw(values, labels, colors, title, 'Coverage', fpath)"
   ]
  },
  {
   "cell_type": "markdown",
   "metadata": {},
   "source": [
    "### Plot 2 to 6\n",
    "In the second plot we present the total coverage obtained by these methods, for groups *age*, *gender*, and *ethinicity*:\n",
    "- group maximin (MIP)\n",
    "- group maximin (fairIM)\n",
    "- DC (MIP)\n",
    "- DC (fairIM)"
   ]
  },
  {
   "cell_type": "code",
   "execution_count": null,
   "metadata": {},
   "outputs": [],
   "source": [
    "labels = ['maximin(MIP)', 'maximin(fairIM)', 'DC(MIP)', 'DC(fairIM)']\n",
    "colors = ['#85caff', '#8fffa0'] * 2\n",
    "\n",
    "for attribtue in ('age', 'gender', 'ethnicity'):\n",
    "    keys = [('mip', 'group_maximin', attribtue), \n",
    "            ('fairim', 'group_maximin', attribtue), \n",
    "            ('mip', 'dc', attribtue), \n",
    "            ('fairim', 'dc', attribtue)]\n",
    "    values = [np.array(coverage_lists[key]) for key in keys]\n",
    "    title = attribtue[0].upper() + attribtue[1:]\n",
    "    fpath = 'images/mip_vs_fairim/%s.pdf'%attribtue\n",
    "    draw(values, labels, colors, title, 'Coverage', fpath)"
   ]
  }
 ],
 "metadata": {
  "kernelspec": {
   "display_name": "Python 3",
   "language": "python",
   "name": "python3"
  },
  "language_info": {
   "codemirror_mode": {
    "name": "ipython",
    "version": 3
   },
   "file_extension": ".py",
   "mimetype": "text/x-python",
   "name": "python",
   "nbconvert_exporter": "python",
   "pygments_lexer": "ipython3",
   "version": "3.7.3"
  }
 },
 "nbformat": 4,
 "nbformat_minor": 2
}
