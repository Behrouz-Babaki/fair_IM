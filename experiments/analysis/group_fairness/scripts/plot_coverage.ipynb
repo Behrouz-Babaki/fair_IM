{
 "cells": [
  {
   "cell_type": "code",
   "execution_count": null,
   "metadata": {},
   "outputs": [],
   "source": [
    "import os\n",
    "from os.path import join as ojoin"
   ]
  },
  {
   "cell_type": "code",
   "execution_count": null,
   "metadata": {},
   "outputs": [],
   "source": [
    "sim_dir = ojoin('..', 'simulation_results') "
   ]
  },
  {
   "cell_type": "code",
   "execution_count": null,
   "metadata": {},
   "outputs": [],
   "source": [
    "problems = dict()\n",
    "problems['fairim'] = ['group_maximin', 'dc']\n",
    "problems['mip'] = problems['fairim'] + ['equality', 'equity']"
   ]
  },
  {
   "cell_type": "code",
   "execution_count": null,
   "metadata": {},
   "outputs": [],
   "source": [
    "def extract_coverage(fpath):\n",
    "    total_coverage = 0\n",
    "    with open(fpath) as f:\n",
    "        for line in f:\n",
    "            line = line.strip()\n",
    "            if not line: continue\n",
    "            total_coverage += float(line)\n",
    "    return total_coverage"
   ]
  },
  {
   "cell_type": "code",
   "execution_count": null,
   "metadata": {},
   "outputs": [],
   "source": [
    "coverage_dict = dict()\n",
    "\n",
    "tim_coverage_list = []\n",
    "for graph_number in range(20):\n",
    "    coverage = extract_coverage(ojoin(sim_dir, 'tim', 'output_%d.txt'%graph_number))\n",
    "    if coverage > 0:\n",
    "        tim_coverage_list.append(coverage)\n",
    "coverage_dict['tim'] = tim_coverage_list"
   ]
  },
  {
   "cell_type": "code",
   "execution_count": null,
   "metadata": {},
   "outputs": [],
   "source": [
    "for approach in ('mip', 'fairim'):\n",
    "    for problem in problems[approach]:\n",
    "        for attribute in ('age', 'gender', 'ethnicity'):\n",
    "            output_dir = ojoin(sim_dir, approach, problem, attribute)\n",
    "            coverage_list = []\n",
    "            for graph_number in range(20):\n",
    "                coverage = extract_coverage(ojoin(output_dir, 'output_%d.txt'%graph_number))\n",
    "                if coverage > 0:\n",
    "                    coverage_list.append(coverage)\n",
    "            coverage_dict[approach, problem, attribute] = coverage_list"
   ]
  },
  {
   "cell_type": "code",
   "execution_count": null,
   "metadata": {},
   "outputs": [],
   "source": [
    "%matplotlib inline\n",
    "from matplotlib import pyplot as plt\n",
    "import numpy as np\n",
    "\n",
    "\n",
    "\n",
    "def draw(values, labels, colors, title, ylabel, fpath, ylim=None, figsize=None):\n",
    "    if figsize is None:\n",
    "        figsize=(3.5, 2)\n",
    "    plt.figure(figsize=figsize)\n",
    "    means = [np.mean(v) for v in values]\n",
    "    stds = [np.std(v) for v in values]\n",
    "    xpos = range(len(labels))\n",
    "\n",
    "    bars = plt.bar(xpos, means, yerr=stds, width=0.5, align='center', capsize=4)\n",
    "    for i in xpos:\n",
    "        bars[i].set_color(colors[i])\n",
    "    _ = plt.xticks(xpos, labels, rotation=0, fontsize=10)\n",
    "    if ylim:\n",
    "        _ = plt.ylim(ylim)\n",
    "    _ = plt.ylabel(ylabel, fontsize=10)\n",
    "    _ = plt.title(title, fontsize=12)\n",
    "    _ = plt.savefig(fpath, bbox_inches='tight')\n",
    "    "
   ]
  },
  {
   "cell_type": "markdown",
   "metadata": {},
   "source": [
    "### Plots 1 to 3\n",
    "In the first three plot we present the total coverage obtained by these methods, for groups *age*, *gender*, and *ethinicity*:\n",
    "- tim\n",
    "- equity (MIP)\n",
    "- equality (MIP)\n",
    "- group maximin (MIP)\n",
    "- DC (MIP)\n",
    "\n"
   ]
  },
  {
   "cell_type": "code",
   "execution_count": null,
   "metadata": {},
   "outputs": [],
   "source": [
    "labels = ['tim', 'equality', 'equity', 'maximin', 'diversity']\n",
    "colors = ['#606060'] + ['#bababa'] * 4\n",
    "\n",
    "for attribute in ('age', 'gender', 'ethnicity'):\n",
    "    keys = ['tim', ('mip', 'equality', attribute), ('mip', 'equity', attribute), \n",
    "            ('mip', 'group_maximin', attribute), ('mip', 'dc', attribute)]\n",
    "    values = [np.array(coverage_dict[key]) for key in keys]\n",
    "    title = attribute[0].upper() + attribute[1:]\n",
    "    fpath = 'images/mip_coverage/%s.pdf'%attribute\n",
    "    draw(values, labels, colors, title, 'Coverage', fpath, ylim=(60, 85), figsize=(4, 2.5))"
   ]
  },
  {
   "cell_type": "markdown",
   "metadata": {},
   "source": [
    "### Plot 2 to 6\n",
    "In the second plot we present the total coverage obtained by these methods, for groups *age*, *gender*, and *ethinicity*:\n",
    "- group maximin (MIP)\n",
    "- group maximin (fairIM)\n",
    "- DC (MIP)\n",
    "- DC (fairIM)"
   ]
  },
  {
   "cell_type": "code",
   "execution_count": null,
   "metadata": {},
   "outputs": [],
   "source": [
    "labels = ['maximin\\n(fairIM)', 'maximin\\n(MIP)', 'diversity\\n(fairIM)', 'diversity\\n(MIP)']\n",
    "colors = ['#606060', '#bababa'] * 2\n",
    "\n",
    "for attribute in ('age', 'gender', 'ethnicity'):\n",
    "    keys = [('fairim', 'group_maximin', attribute), \n",
    "            ('mip', 'group_maximin', attribute), \n",
    "            ('fairim', 'dc', attribute), \n",
    "            ('mip', 'dc', attribute)]\n",
    "    values = [np.array(coverage_dict[key]) for key in keys]\n",
    "    title = attribute[0].upper() + attribute[1:]\n",
    "    fpath = 'images/mip_vs_fairim/%s.pdf'%attribute\n",
    "    draw(values, labels, colors, title, 'Coverage', fpath, ylim=(60, 85))"
   ]
  }
 ],
 "metadata": {
  "kernelspec": {
   "display_name": "Python 3",
   "language": "python",
   "name": "python3"
  },
  "language_info": {
   "codemirror_mode": {
    "name": "ipython",
    "version": 3
   },
   "file_extension": ".py",
   "mimetype": "text/x-python",
   "name": "python",
   "nbconvert_exporter": "python",
   "pygments_lexer": "ipython3",
   "version": "3.7.3"
  }
 },
 "nbformat": 4,
 "nbformat_minor": 2
}
