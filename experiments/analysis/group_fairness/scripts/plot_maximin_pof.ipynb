{
 "cells": [
  {
   "cell_type": "code",
   "execution_count": null,
   "metadata": {},
   "outputs": [],
   "source": [
    "import os\n",
    "from os.path import join as ojoin\n",
    "\n",
    "sim_dir = ojoin('..', 'simulation_results') "
   ]
  },
  {
   "cell_type": "code",
   "execution_count": null,
   "metadata": {},
   "outputs": [],
   "source": [
    "def extract_coverage(fpath):\n",
    "    total_coverage = 0\n",
    "    with open(fpath) as f:\n",
    "        for line in f:\n",
    "            line = line.strip()\n",
    "            if not line: continue\n",
    "            total_coverage += float(line)\n",
    "    return total_coverage"
   ]
  },
  {
   "cell_type": "code",
   "execution_count": null,
   "metadata": {},
   "outputs": [],
   "source": [
    "best_coverage = [extract_coverage(ojoin(sim_dir, 'tim', 'output_%d.txt'%i)) for i in range(20)]"
   ]
  },
  {
   "cell_type": "code",
   "execution_count": null,
   "metadata": {},
   "outputs": [],
   "source": [
    "pof_dict = dict()\n",
    "\n",
    "for attribute in ('age', 'gender', 'ethnicity'):\n",
    "    for approach in ('fairim', 'mip'):\n",
    "        output_dir = ojoin(sim_dir, approach, 'group_maximin', attribute)\n",
    "        pofs = []\n",
    "        for graph_number in range(20):\n",
    "            output_file = ojoin(output_dir, 'output_%d.txt'%graph_number)\n",
    "            pof = best_coverage[graph_number] / extract_coverage(output_file)\n",
    "            pofs.append(pof)\n",
    "        pof_dict[(approach, attribute)] = pofs"
   ]
  },
  {
   "cell_type": "code",
   "execution_count": null,
   "metadata": {},
   "outputs": [],
   "source": [
    "%matplotlib inline\n",
    "from matplotlib import pyplot as plt\n",
    "import numpy as np\n",
    "\n",
    "\n",
    "values = []\n",
    "for attribute in ('gender', 'age', 'ethnicity'):\n",
    "    for approach in ('fairim', 'mip'):\n",
    "        values.append(pof_dict[(approach, attribute)])\n",
    "\n",
    "means = [np.mean(v) for v in values]\n",
    "stds = [np.std(v) for v in values]\n",
    "xpos = []\n",
    "for i in range(3):\n",
    "    xpos.append(i)\n",
    "    xpos.append(i + 0.35)\n",
    "\n",
    "bars = plt.bar(xpos, means, yerr=stds, align='center', capsize=4, width=0.35)\n",
    "colors = ['#606060', '#bababa'] * 3\n",
    "for i in range(6):\n",
    "    bars[i].set_color(colors[i])\n",
    "    \n",
    "labels = ('gender', 'age', 'ethnicity')\n",
    "locs = [i + 0.17 for i in range(3)]\n",
    "_ = plt.xticks(locs, labels, fontsize=13)\n",
    "\n",
    "_ = plt.ylabel('Price of Fairness', fontsize=13)\n",
    "_ = plt.legend(bars[:2], ('fairIM', 'MIP'), bbox_to_anchor=(1, 1.01), loc=2)\n",
    "_ = plt.savefig('images/minimax_pof.pdf', bbox_inches='tight')"
   ]
  }
 ],
 "metadata": {
  "kernelspec": {
   "display_name": "Python 3",
   "language": "python",
   "name": "python3"
  },
  "language_info": {
   "codemirror_mode": {
    "name": "ipython",
    "version": 3
   },
   "file_extension": ".py",
   "mimetype": "text/x-python",
   "name": "python",
   "nbconvert_exporter": "python",
   "pygments_lexer": "ipython3",
   "version": "3.7.3"
  }
 },
 "nbformat": 4,
 "nbformat_minor": 2
}
