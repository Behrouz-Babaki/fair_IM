{
 "cells": [
  {
   "cell_type": "code",
   "execution_count": null,
   "metadata": {},
   "outputs": [],
   "source": [
    "import os, json, pickle\n",
    "from os.path import join as ojoin"
   ]
  },
  {
   "cell_type": "code",
   "execution_count": null,
   "metadata": {},
   "outputs": [],
   "source": [
    "graph_dir = ojoin('..', '..', '..', '..', 'code', 'fairim', 'networks')\n",
    "outdir_template = ojoin('..', 'simulation_results', '%s', 'group_maximin')"
   ]
  },
  {
   "cell_type": "code",
   "execution_count": null,
   "metadata": {},
   "outputs": [],
   "source": [
    "def extract_subgroup_influence(graph, attribute, value, influences):\n",
    "    subgroup_indices = [nodeid for nodeid, attr_dict in graph.nodes(data=True)\n",
    "                        if attr_dict[attribute] == value]\n",
    "    subgroup_influence = sum([influences[i] for i in subgroup_indices])\n",
    "    return subgroup_influence"
   ]
  },
  {
   "cell_type": "code",
   "execution_count": null,
   "metadata": {},
   "outputs": [],
   "source": [
    "def extract_maximin(graph_number, attribute, values, sim_outfile):\n",
    "    graph_filename = ojoin(graph_dir, 'graph_spa_500_%d.pickle'%graph_number)\n",
    "    with open(graph_filename, 'rb') as f:\n",
    "        graph = pickle.load(f)    \n",
    "\n",
    "    influences = []\n",
    "    with open(sim_outfile) as f:\n",
    "        influences = [float(i) for i in f.readlines() if i.strip()]\n",
    "    \n",
    "    subgroup_influences = [extract_subgroup_influence(graph, attribute, value, influences) \n",
    "                           for value in values]\n",
    "    return min(subgroup_influences)"
   ]
  },
  {
   "cell_type": "code",
   "execution_count": null,
   "metadata": {},
   "outputs": [],
   "source": [
    "with open('attribute_values.json') as f:\n",
    "    attribute_values = json.load(f)"
   ]
  },
  {
   "cell_type": "code",
   "execution_count": null,
   "metadata": {},
   "outputs": [],
   "source": [
    "maximin_info = []\n",
    "for method in ('mip', 'fairim'):\n",
    "    for graph_number in range(20):\n",
    "        for attribute in ['ethnicity', 'age', 'gender']:\n",
    "            sim_outfile = ojoin(outdir_template%method, attribute, 'output_%d.txt'%graph_number)\n",
    "            values = attribute_values[attribute]\n",
    "            maximin = extract_maximin(graph_number, attribute, attribute_values[attribute], sim_outfile)\n",
    "            maximin_dict = dict(graph_name='graph_spa_500_%d'%graph_number,\n",
    "                                method=method,\n",
    "                                attribute=attribute,\n",
    "                                maximin=maximin)\n",
    "            maximin_info.append(maximin_dict)"
   ]
  },
  {
   "cell_type": "code",
   "execution_count": null,
   "metadata": {},
   "outputs": [],
   "source": [
    "with open('maximin_values.json', 'w') as f:\n",
    "    json.dump(maximin_info, f)"
   ]
  }
 ],
 "metadata": {
  "kernelspec": {
   "display_name": "Python 3",
   "language": "python",
   "name": "python3"
  },
  "language_info": {
   "codemirror_mode": {
    "name": "ipython",
    "version": 3
   },
   "file_extension": ".py",
   "mimetype": "text/x-python",
   "name": "python",
   "nbconvert_exporter": "python",
   "pygments_lexer": "ipython3",
   "version": "3.7.3"
  }
 },
 "nbformat": 4,
 "nbformat_minor": 2
}
