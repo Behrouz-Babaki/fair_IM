{
 "cells": [
  {
   "cell_type": "code",
   "execution_count": null,
   "metadata": {},
   "outputs": [],
   "source": [
    "import os\n",
    "from os.path import join as ojoin\n",
    "sim_dir = ojoin('simulation_results') "
   ]
  },
  {
   "cell_type": "code",
   "execution_count": null,
   "metadata": {},
   "outputs": [],
   "source": [
    "def extract_coverage(fpath):\n",
    "    total_coverage = 0\n",
    "    with open(fpath) as f:\n",
    "        for line in f:\n",
    "            line = line.strip()\n",
    "            if not line: continue\n",
    "            total_coverage += float(line)\n",
    "    return total_coverage"
   ]
  },
  {
   "cell_type": "code",
   "execution_count": null,
   "metadata": {},
   "outputs": [],
   "source": [
    "def get_coverage_dict():\n",
    "    coverage_dict = dict()\n",
    "    \n",
    "    for method in ('tim', 'simpath', 'imm', 'celf'):\n",
    "        output_dir = ojoin(sim_dir, method)\n",
    "        coverage_list = []\n",
    "        for graph_number in range(20):\n",
    "            coverage = extract_coverage(ojoin(output_dir, 'output_%d.txt'%graph_number))\n",
    "            if coverage == 0:\n",
    "                print('ERROR')\n",
    "            coverage_list.append(coverage)\n",
    "        coverage_dict[method] = coverage_list\n",
    "\n",
    "    for nsamples in (10, 100, 200, 500, 1000):\n",
    "        output_dir = ojoin(sim_dir, 'mip', 'n%d'%nsamples)\n",
    "        coverage_list = []\n",
    "        for graph_number in range(20):\n",
    "            coverage = extract_coverage(ojoin(output_dir, 'output_%d.txt'%graph_number))\n",
    "            if coverage == 0:\n",
    "                print('ERROR')\n",
    "            coverage_list.append(coverage)\n",
    "        coverage_dict[('mip', nsamples)] = coverage_list  \n",
    "\n",
    "    return coverage_dict"
   ]
  },
  {
   "cell_type": "code",
   "execution_count": null,
   "metadata": {},
   "outputs": [],
   "source": [
    "%matplotlib inline\n",
    "from matplotlib import pyplot as plt\n",
    "import numpy as np\n",
    "\n",
    "def draw(values, labels, colors, ylabel, fpath, ylim=None, figsize=None):\n",
    "    if figsize is None:\n",
    "        figsize=(3.5, 2)\n",
    "    plt.figure(figsize=figsize)\n",
    "    means = [np.mean(v) for v in values]\n",
    "    stds = [np.std(v) for v in values]\n",
    "    xpos = range(len(labels))\n",
    "\n",
    "    bars = plt.bar(xpos, means, yerr=stds, width=0.5, align='center', capsize=4)\n",
    "    for i in xpos:\n",
    "        bars[i].set_color(colors[i])\n",
    "    _ = plt.xticks(xpos, labels, rotation=0, fontsize=10)\n",
    "    if ylim:\n",
    "        _ = plt.ylim(ylim)\n",
    "    _ = plt.ylabel(ylabel, fontsize=10)\n",
    "    _ = plt.savefig(fpath, bbox_inches='tight')"
   ]
  },
  {
   "cell_type": "code",
   "execution_count": null,
   "metadata": {},
   "outputs": [],
   "source": [
    "coverage_dict = get_coverage_dict()\n",
    "\n",
    "sample_range = (10, 100, 200, 500, 1000)\n",
    "labels = ['celf', 'simpath', 'imm', 'tim']\n",
    "for nsamples in sample_range:\n",
    "    labels.append('MIP\\n%d'%nsamples)\n",
    "\n",
    "colors = ['#ff85d0'] * 4 + ['#8fffa0'] * 5\n",
    "\n",
    "keys = ['celf', 'simpath', 'imm', 'tim'] \n",
    "for nsamples in sample_range:\n",
    "    keys.append(('mip', nsamples))\n",
    "\n",
    "values = [np.array(coverage_dict[key]) for key in keys]\n",
    "fpath = 'all_methods.pdf'\n",
    "draw(values, labels, colors, 'Coverage', fpath, ylim=(65, 80), figsize=(7, 2.5))"
   ]
  }
 ],
 "metadata": {
  "kernelspec": {
   "display_name": "Python 3",
   "language": "python",
   "name": "python3"
  },
  "language_info": {
   "codemirror_mode": {
    "name": "ipython",
    "version": 3
   },
   "file_extension": ".py",
   "mimetype": "text/x-python",
   "name": "python",
   "nbconvert_exporter": "python",
   "pygments_lexer": "ipython3",
   "version": "3.7.3"
  }
 },
 "nbformat": 4,
 "nbformat_minor": 2
}
