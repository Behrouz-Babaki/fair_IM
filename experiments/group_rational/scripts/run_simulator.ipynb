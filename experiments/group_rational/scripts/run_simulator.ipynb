{
 "cells": [
  {
   "cell_type": "code",
   "execution_count": null,
   "metadata": {},
   "outputs": [],
   "source": [
    "import os, subprocess, json, math\n",
    "from os.path import join as ojoin"
   ]
  },
  {
   "cell_type": "code",
   "execution_count": null,
   "metadata": {},
   "outputs": [],
   "source": [
    "DDIR = os.path.abspath(ojoin('..', 'datasets'))\n",
    "BIN = os.path.abspath(ojoin('..', '..', '..', 'code', 'simulator', 'simulator'))\n",
    "num_simulations = 1000000"
   ]
  },
  {
   "cell_type": "code",
   "execution_count": null,
   "metadata": {},
   "outputs": [],
   "source": [
    "with open('attribute_values.json') as f:\n",
    "    attribute_values = json.load(f)"
   ]
  },
  {
   "cell_type": "code",
   "execution_count": null,
   "metadata": {},
   "outputs": [],
   "source": [
    "def create_simulator_graph(graph_number, attribute, value):\n",
    "    \n",
    "    graph_name = 'graph_spa_500_%d'%graph_number\n",
    "    data_dir = ojoin(DDIR, graph_name, attribute, value) \n",
    "    ingraph_file = ojoin(data_dir, 'graph_ic.inf')\n",
    "    info_file = ojoin(data_dir, 'attribute.txt')\n",
    "    outgraph_file = ojoin(data_dir, 'sim_graph.txt')\n",
    "    \n",
    "    with open(info_file) as f:\n",
    "        num_nodes = int(f.readline()[2:])\n",
    "        num_edges = int(f.readline()[2:])\n",
    "    \n",
    "    with open(outgraph_file, 'w') as outf:\n",
    "        print(num_nodes, file=outf)\n",
    "        print(num_edges, file=outf)\n",
    "        with open(ingraph_file) as inf:\n",
    "            for line in inf:\n",
    "                print(line.strip(), file=outf)"
   ]
  },
  {
   "cell_type": "code",
   "execution_count": null,
   "metadata": {},
   "outputs": [],
   "source": [
    "def run_simulator(graph_number, attribute, value):\n",
    "    graph_name = 'graph_spa_500_%d'%graph_number\n",
    "    data_dir = ojoin(DDIR, graph_name, attribute, value)\n",
    "    \n",
    "    seed_file = ojoin(data_dir, 'tim_output.txt')\n",
    "    graph_file = ojoin(data_dir, 'sim_graph.txt')\n",
    "    simulator_output_file = ojoin(data_dir, 'sim_output.txt')\n",
    "\n",
    "\n",
    "    cmd = [BIN, \n",
    "           '--graph-file', graph_file, \n",
    "           '--seed-file', seed_file,\n",
    "           '--output-file', simulator_output_file,\n",
    "           '--num-simulations', str(num_simulations)]\n",
    "\n",
    "    out = subprocess.check_output(cmd, text=True)\n",
    "    return out"
   ]
  },
  {
   "cell_type": "code",
   "execution_count": null,
   "metadata": {},
   "outputs": [],
   "source": [
    "for graph_number in range(24):\n",
    "    for attribute in attribute_values:\n",
    "        for value in attribute_values[attribute]:\n",
    "            _ = run_simulator(graph_number, attribute, value)"
   ]
  }
 ],
 "metadata": {
  "kernelspec": {
   "display_name": "Python 3",
   "language": "python",
   "name": "python3"
  },
  "language_info": {
   "codemirror_mode": {
    "name": "ipython",
    "version": 3
   },
   "file_extension": ".py",
   "mimetype": "text/x-python",
   "name": "python",
   "nbconvert_exporter": "python",
   "pygments_lexer": "ipython3",
   "version": "3.7.3"
  }
 },
 "nbformat": 4,
 "nbformat_minor": 2
}
