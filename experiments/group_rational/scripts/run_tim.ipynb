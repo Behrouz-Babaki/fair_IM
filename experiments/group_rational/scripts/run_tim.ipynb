{
 "cells": [
  {
   "cell_type": "code",
   "execution_count": null,
   "metadata": {},
   "outputs": [],
   "source": [
    "import os, subprocess, json, math\n",
    "from os.path import join as ojoin"
   ]
  },
  {
   "cell_type": "code",
   "execution_count": null,
   "metadata": {},
   "outputs": [],
   "source": [
    "DDIR = os.path.abspath(ojoin('..', 'datasets'))\n",
    "BIN = os.path.abspath(ojoin('..', '..', '..', 'code', 'tim', 'tim'))\n",
    "total_budget = 25"
   ]
  },
  {
   "cell_type": "code",
   "execution_count": null,
   "metadata": {},
   "outputs": [],
   "source": [
    "with open('attribute_values.json') as f:\n",
    "    attribute_values = json.load(f)"
   ]
  },
  {
   "cell_type": "code",
   "execution_count": null,
   "metadata": {},
   "outputs": [],
   "source": [
    "# tim/tim -dataset [DATASET DIR] -k [BUDGET] -model IC -epsilon 0.1 -outfile [OUTPUT FILE]\n",
    "def run_tim(graph_number, attribute, value):\n",
    "    graph_name = 'graph_spa_500_%d'%graph_number\n",
    "    data_dir = ojoin(DDIR, graph_name, attribute, value)\n",
    "    output_file = ojoin(data_dir, 'tim_output.txt')\n",
    "\n",
    "    info_file = ojoin(data_dir, 'info.json')\n",
    "    with open(info_file) as f:\n",
    "        info = json.load(f)\n",
    "    ratio = info['size_ratio']\n",
    "    budget = math.ceil(total_budget * ratio)\n",
    "    budget = '%d'%budget\n",
    "\n",
    "    cmd = [BIN, \n",
    "           '-dataset', data_dir, \n",
    "           '-k', budget, \n",
    "           '-model', 'IC', \n",
    "           '-epsilon', '0.1',\n",
    "           '-outfile', output_file]\n",
    "    out = subprocess.check_output(cmd, text=True)\n",
    "\n",
    "    return out"
   ]
  },
  {
   "cell_type": "code",
   "execution_count": null,
   "metadata": {},
   "outputs": [],
   "source": [
    "for graph_number in range(24):\n",
    "    for attribute in attribute_values:\n",
    "        for value in attribute_values[attribute]:\n",
    "            output = run_tim(graph_number, attribute, value)\n",
    "            assert('Program Ends Successfully' in output)"
   ]
  }
 ],
 "metadata": {
  "kernelspec": {
   "display_name": "Python 3",
   "language": "python",
   "name": "python3"
  },
  "language_info": {
   "codemirror_mode": {
    "name": "ipython",
    "version": 3
   },
   "file_extension": ".py",
   "mimetype": "text/x-python",
   "name": "python",
   "nbconvert_exporter": "python",
   "pygments_lexer": "ipython3",
   "version": "3.7.3"
  }
 },
 "nbformat": 4,
 "nbformat_minor": 2
}
