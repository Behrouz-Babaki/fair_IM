{
 "cells": [
  {
   "cell_type": "code",
   "execution_count": null,
   "metadata": {},
   "outputs": [],
   "source": [
    "import json, os, pickle\n",
    "from os.path import join as ojoin"
   ]
  },
  {
   "cell_type": "code",
   "execution_count": null,
   "metadata": {},
   "outputs": [],
   "source": [
    "with open('attribute_values.json') as f:\n",
    "    attribute_values = json.load(f)"
   ]
  },
  {
   "cell_type": "code",
   "execution_count": null,
   "metadata": {},
   "outputs": [],
   "source": [
    "IDIR = os.path.abspath(ojoin('..', 'datasets'))"
   ]
  },
  {
   "cell_type": "code",
   "execution_count": null,
   "metadata": {},
   "outputs": [],
   "source": [
    "graph_name = 'graph_spa_500_%d'%graph_number\n",
    "sim_outfile = ojoin(IDIR, graph_name, attribute, value, 'sim_output.txt')"
   ]
  },
  {
   "cell_type": "code",
   "execution_count": null,
   "metadata": {},
   "outputs": [],
   "source": [
    "def extract_total_influence(graph_name, attribute, value):\n",
    "    sim_outfile = ojoin(IDIR, graph_name, attribute, value, 'sim_output.txt')\n",
    "    \n",
    "    with open(sim_outfile) as f:\n",
    "        total = sum([float(i) for i in f.readlines()])\n",
    "    \n",
    "    return total"
   ]
  },
  {
   "cell_type": "code",
   "execution_count": null,
   "metadata": {},
   "outputs": [],
   "source": [
    "info_list = []\n",
    "total_budget = 25\n",
    "for graph_number in range(24):\n",
    "    for attribute in attribute_values:\n",
    "        for value in attribute_values[attribute]:\n",
    "            graph_name = 'graph_spa_500_%d'%graph_number\n",
    "            group_influence = extract_total_influence(graph_name, attribute, value)\n",
    "            entry = dict(graph_name=graph_name, \n",
    "                         attribute=attribute, \n",
    "                         value=value, \n",
    "                         total_budget=total_budget, \n",
    "                         DC_RHS=group_influence)\n",
    "            info_list.append(entry)"
   ]
  },
  {
   "cell_type": "code",
   "execution_count": null,
   "metadata": {},
   "outputs": [],
   "source": [
    "with open('../dc_rhs.json', 'w') as f:\n",
    "    json.dump(info_list, f)"
   ]
  }
 ],
 "metadata": {
  "kernelspec": {
   "display_name": "Python 3",
   "language": "python",
   "name": "python3"
  },
  "language_info": {
   "codemirror_mode": {
    "name": "ipython",
    "version": 3
   },
   "file_extension": ".py",
   "mimetype": "text/x-python",
   "name": "python",
   "nbconvert_exporter": "python",
   "pygments_lexer": "ipython3",
   "version": "3.7.3"
  }
 },
 "nbformat": 4,
 "nbformat_minor": 2
}
