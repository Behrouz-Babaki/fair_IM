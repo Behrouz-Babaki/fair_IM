{
 "cells": [
  {
   "cell_type": "markdown",
   "metadata": {},
   "source": [
    "Each directory should contain three files:\n",
    "- `attribute.txt`\n",
    "- `graph_ic.inf`\n",
    "- `graph.txt`\n",
    "\n",
    "The file `attribute.txt` has a format like this:\n",
    "```\n",
    "n=500\n",
    "m=1689\n",
    "```\n",
    "where `n` is the number of nodes and `m` is the number of edges\n",
    "\n",
    "The file `graph_ic.inf` has the following format:\n",
    "```\n",
    "0 1 0.2\n",
    "0 2 0.16666666666666666\n",
    "1 0 0.25\n",
    "...\n",
    "...\n",
    "498 493 0.125\n",
    "499 498 0.25\n",
    "499 495 0.125\n",
    "```\n",
    "where the first and second numbers are the node ids, and the third number is the probability of the directed edge. \n",
    "\n",
    "The file `graph.txt` is the same as `graph_ic.inf`, except that the third column is dropped:\n",
    "```\n",
    "0 1\n",
    "0 2\n",
    "1 0\n",
    "...\n",
    "...\n",
    "498 493 \n",
    "499 498\n",
    "499 495\n",
    "```"
   ]
  },
  {
   "cell_type": "code",
   "execution_count": 1,
   "metadata": {},
   "outputs": [],
   "source": [
    "import json, os, pickle\n",
    "from os.path import join as ojoin"
   ]
  },
  {
   "cell_type": "code",
   "execution_count": 2,
   "metadata": {},
   "outputs": [],
   "source": [
    "with open('attribute_values.json') as f:\n",
    "    attribute_values = json.load(f)"
   ]
  },
  {
   "cell_type": "code",
   "execution_count": 3,
   "metadata": {},
   "outputs": [],
   "source": [
    "data_dir = os.path.abspath(ojoin('..','..','..','code','fairim','networks'))\n",
    "ODIR = os.path.abspath(ojoin('..', 'datasets'))"
   ]
  },
  {
   "cell_type": "code",
   "execution_count": 4,
   "metadata": {},
   "outputs": [],
   "source": [
    "def create_files(graph_number, attribute, value):\n",
    "    graph_name = 'graph_spa_500_%d'%graph_number\n",
    "\n",
    "    output_dir = ojoin(ODIR, graph_name, attribute, value)\n",
    "\n",
    "    graph_fpath = ojoin(data_dir, '%s.pickle'%graph_name)\n",
    "    with open(graph_fpath, 'rb') as f:\n",
    "        graph = pickle.load(f)    \n",
    "        \n",
    "    subgraph_nodes = [node_id for node_id, attributes in graph.nodes(data=True) \n",
    "                      if attributes[attribute] == value]  \n",
    "\n",
    "    index2networkx = dict()\n",
    "    networkx2index = dict()\n",
    "    for i, n in enumerate(subgraph_nodes):\n",
    "        index2networkx[i] = n\n",
    "        networkx2index[n] = i\n",
    "        \n",
    "    mapping = dict(id2nx=index2networkx, nx2id=networkx2index)\n",
    "    mapping_file = ojoin(output_dir, 'mapping.json')\n",
    "    with open(mapping_file, 'w') as f:\n",
    "        json.dump(mapping, f)\n",
    "    \n",
    "    subgraph = graph.subgraph(subgraph_nodes)  \n",
    "\n",
    "    attribute_file = ojoin(output_dir, 'attribute.txt')\n",
    "\n",
    "    num_nodes = len(subgraph_nodes)\n",
    "    num_edges = subgraph.number_of_edges()\n",
    "\n",
    "    with open(attribute_file, 'w') as f:\n",
    "        print('n=%d'%num_nodes, file=f)\n",
    "        print('m=%d'%num_edges, file=f) \n",
    "        \n",
    "    graph_file = ojoin(output_dir, 'graph.txt')\n",
    "    ic_file = ojoin(output_dir, 'graph_ic.inf')\n",
    "\n",
    "    with open(graph_file, 'w') as gf:\n",
    "        with open(ic_file, 'w') as icf:\n",
    "            for u, v, d in subgraph.edges(data=True):\n",
    "                n1 = networkx2index[u]\n",
    "                n2 = networkx2index[v]\n",
    "                p = d['p']\n",
    "                print('%d %d'%(n1, n2), file=gf)\n",
    "                print('%d %d %g'%(n1, n2, p), file=icf)        "
   ]
  },
  {
   "cell_type": "code",
   "execution_count": 5,
   "metadata": {},
   "outputs": [],
   "source": [
    "for graph_number in range(24):\n",
    "    for attribute in attribute_values:\n",
    "        for value in attribute_values[attribute]:\n",
    "            create_files(graph_number, attribute, value)"
   ]
  }
 ],
 "metadata": {
  "kernelspec": {
   "display_name": "Python 3",
   "language": "python",
   "name": "python3"
  },
  "language_info": {
   "codemirror_mode": {
    "name": "ipython",
    "version": 3
   },
   "file_extension": ".py",
   "mimetype": "text/x-python",
   "name": "python",
   "nbconvert_exporter": "python",
   "pygments_lexer": "ipython3",
   "version": "3.7.3"
  }
 },
 "nbformat": 4,
 "nbformat_minor": 2
}
