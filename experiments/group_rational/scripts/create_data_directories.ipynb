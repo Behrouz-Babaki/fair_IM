{
 "cells": [
  {
   "cell_type": "code",
   "execution_count": null,
   "metadata": {},
   "outputs": [],
   "source": [
    "import os\n",
    "import pickle\n",
    "import shutil\n",
    "import json\n",
    "from os.path import join as ojoin"
   ]
  },
  {
   "cell_type": "code",
   "execution_count": null,
   "metadata": {},
   "outputs": [],
   "source": [
    "data_dir = os.path.abspath(ojoin('..','..','..','code','fairim','networks'))"
   ]
  },
  {
   "cell_type": "code",
   "execution_count": null,
   "metadata": {},
   "outputs": [],
   "source": [
    "def get_attribute_values(network):\n",
    "    data_fname = ojoin(data_dir, '%s.pickle'%network)\n",
    "    with open(data_fname, 'rb') as f:\n",
    "        data = pickle.load(f)    \n",
    "\n",
    "    attribute_values = dict()\n",
    "    for node_id, attributes in data.nodes(data=True):\n",
    "        for k, v in attributes.items():\n",
    "            if not k in attribute_values:\n",
    "                attribute_values[k] = set()\n",
    "            attribute_values[k].add(v)\n",
    "            \n",
    "    return attribute_values"
   ]
  },
  {
   "cell_type": "code",
   "execution_count": null,
   "metadata": {},
   "outputs": [],
   "source": [
    "attribute_values = get_attribute_values('graph_spa_500_0')\n",
    "for i in range(24):\n",
    "    network = 'graph_spa_500_%d'%i\n",
    "    av = get_attribute_values(network)\n",
    "    assert av == attribute_values\n",
    "\n",
    "for k, v in attribute_values.items():\n",
    "    attribute_values[k] = list(v)\n",
    "\n",
    "print(attribute_values)"
   ]
  },
  {
   "cell_type": "code",
   "execution_count": null,
   "metadata": {},
   "outputs": [],
   "source": [
    "with open('attribute_values.json', 'w') as f:\n",
    "    json.dump(attribute_values, f)"
   ]
  },
  {
   "cell_type": "code",
   "execution_count": null,
   "metadata": {},
   "outputs": [],
   "source": [
    "def mkdir_fresh(dir_path):\n",
    "    if os.path.isdir(dir_path):\n",
    "        shutil.rmtree(dir_path)\n",
    "    os.mkdir(dir_path)\n",
    "    \n",
    "# create one directory for each network\n",
    "rootdir = os.path.abspath(ojoin('..', 'datasets'))\n",
    "for network_id in range(24):\n",
    "    network_name = 'graph_spa_500_%d'%network_id\n",
    "    network_dir = ojoin(rootdir, network_name)\n",
    "    mkdir_fresh(network_dir)\n",
    "\n",
    "    # create one directory for each attribute\n",
    "    for attribute in attribute_values:\n",
    "        attribute_dir = ojoin(network_dir, attribute)\n",
    "        mkdir_fresh(attribute_dir)\n",
    "        \n",
    "        # create one directory for each value\n",
    "        for value in attribute_values[attribute]:\n",
    "            value_dir = ojoin(attribute_dir, value)\n",
    "            mkdir_fresh(value_dir)\n",
    "            keep_file = ojoin(value_dir, '.keep')\n",
    "            open(keep_file, 'a').close()"
   ]
  }
 ],
 "metadata": {
  "kernelspec": {
   "display_name": "Python 3",
   "language": "python",
   "name": "python3"
  },
  "language_info": {
   "codemirror_mode": {
    "name": "ipython",
    "version": 3
   },
   "file_extension": ".py",
   "mimetype": "text/x-python",
   "name": "python",
   "nbconvert_exporter": "python",
   "pygments_lexer": "ipython3",
   "version": "3.7.3"
  }
 },
 "nbformat": 4,
 "nbformat_minor": 2
}
