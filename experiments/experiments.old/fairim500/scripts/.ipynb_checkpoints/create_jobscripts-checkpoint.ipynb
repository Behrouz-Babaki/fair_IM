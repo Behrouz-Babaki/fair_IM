{
 "cells": [
  {
   "cell_type": "code",
   "execution_count": null,
   "metadata": {},
   "outputs": [],
   "source": [
    "job_str = '''#!/bin/bash\n",
    "#SBATCH --account=def-pesantg\n",
    "#SBATCH --time=11:59:00\n",
    "#SBATCH --mem=8000M\n",
    "#SBATCH --output=out/o{counter}.out\n",
    "#SBATCH --error=out/o{counter}.out\n",
    "#SBATCH --job-name=fairim.{attribute}.{id}\n",
    "\n",
    "module load singularity/3.1\n",
    "\n",
    "RESULTDIR=$(readlink -f ./results)\n",
    "singularity run -C -B $RESULTDIR:/results \\\\\n",
    "                      fairim.sif          \\\\\n",
    "                      /influence_maximization/code/fairim/check_fairness.py \\\\\n",
    "                      /influence_maximization/code/fairim/networks/graph_spa_500_{id}.pickle \\\\\n",
    "                      /results/result_{attribute}_{id}.pkl      \\\\\n",
    "                      --attribute {attribute}\n",
    "'''"
   ]
  },
  {
   "cell_type": "code",
   "execution_count": null,
   "metadata": {},
   "outputs": [],
   "source": [
    "from itertools import product\n",
    "attributes = ['region', 'ethnicity', 'age', 'gender', 'status']\n",
    "\n",
    "counter = 1\n",
    "for id, attribute in product(range(24), attributes):\n",
    "    outstr = job_str.format(id=id, attribute=attribute, counter=counter)\n",
    "    with open('../jobscripts/job%02d.sh'%(counter), 'w') as f:\n",
    "        print(outstr, file=f)\n",
    "    counter += 1"
   ]
  },
  {
   "cell_type": "code",
   "execution_count": null,
   "metadata": {},
   "outputs": [],
   "source": [
    "with open('../submit.sh', 'w') as f:\n",
    "    print('#!/bin/bash', file=f)\n",
    "    for i in range(1, counter):\n",
    "        print('sbatch jobscripts/job%02d.sh'%i, file=f)"
   ]
  }
 ],
 "metadata": {
  "kernelspec": {
   "display_name": "Python 3",
   "language": "python",
   "name": "python3"
  },
  "language_info": {
   "codemirror_mode": {
    "name": "ipython",
    "version": 3
   },
   "file_extension": ".py",
   "mimetype": "text/x-python",
   "name": "python",
   "nbconvert_exporter": "python",
   "pygments_lexer": "ipython3",
   "version": "3.7.1"
  }
 },
 "nbformat": 4,
 "nbformat_minor": 2
}
