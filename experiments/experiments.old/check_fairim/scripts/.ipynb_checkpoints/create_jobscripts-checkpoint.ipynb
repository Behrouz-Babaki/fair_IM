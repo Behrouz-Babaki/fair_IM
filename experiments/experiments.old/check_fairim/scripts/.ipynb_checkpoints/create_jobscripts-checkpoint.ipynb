{
 "cells": [
  {
   "cell_type": "code",
   "execution_count": null,
   "metadata": {},
   "outputs": [],
   "source": [
    "job_str = '''#!/bin/bash\n",
    "#SBATCH --account=def-pesantg\n",
    "#SBATCH --time=11:59:00\n",
    "#SBATCH --mem=8000M\n",
    "#SBATCH --output=out/o{id}.out\n",
    "#SBATCH --error=out/o{id}.out\n",
    "#SBATCH --job-name=fairim.{id}\n",
    "\n",
    "module load singularity/3.1\n",
    "\n",
    "RESULTDIR=$(readlink -f ./results)\n",
    "singularity run -C -B $RESULTDIR:/results fairim.sif /influence_maximization/code/fairim/check_fairness.py {id} /results\n",
    "'''"
   ]
  },
  {
   "cell_type": "code",
   "execution_count": null,
   "metadata": {},
   "outputs": [],
   "source": [
    "for id in range(10):\n",
    "    outstr = job_str.format(id=id)\n",
    "    with open('../jobscripts/job%02d.sh'%(id+1), 'w') as f:\n",
    "        print(outstr, file=f)"
   ]
  },
  {
   "cell_type": "code",
   "execution_count": null,
   "metadata": {},
   "outputs": [],
   "source": [
    "with open('../submit.sh', 'w') as f:\n",
    "    print('#!/bin/bash', file=f)\n",
    "    for i in range(10):\n",
    "        print('sbatch jobscripts/job%02d.sh'%(i+1), file=f)\n",
    "        "
   ]
  }
 ],
 "metadata": {
  "kernelspec": {
   "display_name": "Python 3",
   "language": "python",
   "name": "python3"
  },
  "language_info": {
   "codemirror_mode": {
    "name": "ipython",
    "version": 3
   },
   "file_extension": ".py",
   "mimetype": "text/x-python",
   "name": "python",
   "nbconvert_exporter": "python",
   "pygments_lexer": "ipython3",
   "version": "3.7.1"
  }
 },
 "nbformat": 4,
 "nbformat_minor": 2
}
