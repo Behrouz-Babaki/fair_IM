{
 "cells": [
  {
   "cell_type": "code",
   "execution_count": 1,
   "metadata": {},
   "outputs": [],
   "source": [
    "from __future__ import print_function, division\n",
    "from gurobipy import Model, GRB, quicksum, LinExpr\n",
    "import networkx as nx\n",
    "import pickle\n",
    "import numpy, random"
   ]
  },
  {
   "cell_type": "code",
   "execution_count": 2,
   "metadata": {},
   "outputs": [],
   "source": [
    "with open('../MIP/data/networks_prob/graph_spa_500_0.pickle', \"rb\") as f:\n",
    "    main_graph = pickle.load(f)\n",
    "    \n",
    "samples = []\n",
    "m = 100\n",
    "for j in range(m):\n",
    "    G = nx.DiGraph()\n",
    "    for u in main_graph.nodes():\n",
    "        G.add_node(u)\n",
    "    for u,v in main_graph.edges():\n",
    "        if main_graph[u][v]['p']> random.random():\n",
    "            G.add_edge(u, v)\n",
    "    samples.append(G)"
   ]
  },
  {
   "cell_type": "code",
   "execution_count": 3,
   "metadata": {},
   "outputs": [],
   "source": [
    "labels = nx.get_node_attributes(main_graph, 'gender')\n",
    "label_dict = {}\n",
    "for i in range(len(main_graph.nodes())):\n",
    "    label = labels[i].encode('utf-8')\n",
    "    if label in label_dict.keys():\n",
    "        label_dict[label].append(i)\n",
    "    else:\n",
    "        label_dict[label] = [i]"
   ]
  },
  {
   "cell_type": "code",
   "execution_count": 4,
   "metadata": {},
   "outputs": [],
   "source": [
    "model = Model('IM')\n",
    "min_value = model.addVar(lb=0.0, ub=1.0, vtype=GRB.CONTINUOUS)\n",
    "\n",
    "mvars = []\n",
    "#active nodes\n",
    "avars = []\n",
    "#seed nodes\n",
    "svars = []\n",
    "var_seed_dict = {}\n",
    "var_active_dict = {}\n",
    "var_mean_dict = {}\n",
    "\n",
    "for j in range(len(main_graph.nodes())):\n",
    "    s = model.addVar(lb=0.0, ub=1.0, vtype=GRB.BINARY)\n",
    "    svars.append(s)\n",
    "    var_seed_dict[j] = s\n",
    "\n",
    "for sample_index, sample in enumerate(samples):\n",
    "    for j in range(len(main_graph.nodes())):\n",
    "        a = model.addVar(lb=0.0, ub=1.0, vtype=GRB.BINARY)\n",
    "        avars.append(a)\n",
    "        var_active_dict[(sample_index,j)] = a    \n",
    "            \n",
    "mvars.append(avars)\n",
    "mvars.append(svars)"
   ]
  },
  {
   "cell_type": "code",
   "execution_count": 5,
   "metadata": {},
   "outputs": [
    {
     "data": {
      "text/plain": [
       "<gurobi.Constr *Awaiting Model Update*>"
      ]
     },
     "execution_count": 5,
     "metadata": {},
     "output_type": "execute_result"
    }
   ],
   "source": [
    "budget = 25\n",
    "model.addConstr(quicksum(svars), GRB.LESS_EQUAL, budget)"
   ]
  },
  {
   "cell_type": "code",
   "execution_count": 6,
   "metadata": {},
   "outputs": [],
   "source": [
    "obj_expr = quicksum(avars)\n",
    "model.setObjective(min_value, GRB.MAXIMIZE)\n"
   ]
  },
  {
   "cell_type": "code",
   "execution_count": 7,
   "metadata": {},
   "outputs": [],
   "source": [
    "for sample_index, sample in enumerate(samples):\n",
    "    for i in range(len(main_graph.nodes())):\n",
    "        reachable = sample.in_edges(i)\n",
    "        #reachable = nx.descendants(sample, i)\n",
    "        e = len(reachable)\n",
    "        ai = var_active_dict[(sample_index,i)]\n",
    "        si = var_seed_dict[i]\n",
    "        if i in  var_mean_dict.keys():\n",
    "            var_mean_dict[i]+= ai\n",
    "        else:\n",
    "            var_mean_dict[i]= ai\n",
    "        child_active_vars = []\n",
    "        child_seed_vars = []\n",
    "        \n",
    "        \n",
    "        \n",
    "        for child in reachable:\n",
    "            child = child[0]\n",
    "            child_active_vars.append(var_active_dict[(sample_index,child)])\n",
    "            child_seed_vars.append(var_seed_dict[child])\n",
    "            model.addConstr(ai, GRB.GREATER_EQUAL, var_active_dict[(sample_index,child)])\n",
    "        #model.addConstr(ai * e  , GRB.GREATER_EQUAL, quicksum(child_seed_vars))    \n",
    "        #model.addConstr(ai  , GRB.LESS_EQUAL, quicksum(var_seed_dict))       \n",
    "            #model.addConstr(ai, GRB.GREATER_EQUAL, var_active_dict[(sample_index,neighbor[0])])\n",
    "        expr = (e+1)*ai-si-quicksum(child_active_vars)\n",
    "        model.addConstr(expr, GRB.GREATER_EQUAL, 0)\n",
    "        model.addConstr(expr, GRB.LESS_EQUAL, e)\n",
    "        \n",
    "        #model.addConstr(ai, GRB.LESS_EQUAL, si)\n",
    "        #model.addConstr(ai, GRB.LESS_EQUAL, 1)\n",
    "        #model.addConstr(ai, GRB.GREATER_EQUAL, 0)\n",
    "        #model.addConstr(ai, GRB.LESS_EQUAL, quicksum(neighbors_active_vars)+quicksum(neighbors_seed_vars))\n",
    "        \n",
    "        \n",
    "mean_label_dict = {}\n",
    "for label in label_dict.keys():\n",
    "    for node in label_dict[label]:\n",
    "        if label in mean_label_dict.keys():\n",
    "            mean_label_dict[label]+=var_mean_dict[node]\n",
    "        else:\n",
    "            mean_label_dict[label]=var_mean_dict[node]\n",
    "        \n",
    "        \n",
    "for label in label_dict.keys():\n",
    "    label_size = len(label_dict[label])\n",
    "    model.addConstr(mean_label_dict[label], GRB.GREATER_EQUAL, label_size *m* min_value)"
   ]
  },
  {
   "cell_type": "code",
   "execution_count": 8,
   "metadata": {},
   "outputs": [
    {
     "name": "stdout",
     "output_type": "stream",
     "text": [
      "Optimize a model with 124270 rows, 50501 columns and 347570 nonzeros\n",
      "Variable types: 1 continuous, 50500 integer (50500 binary)\n",
      "Coefficient statistics:\n",
      "  Matrix range     [1e+00, 3e+04]\n",
      "  Objective range  [1e+00, 1e+00]\n",
      "  Bounds range     [1e+00, 1e+00]\n",
      "  RHS range        [1e+00, 2e+01]\n",
      "Found heuristic solution: objective -0.0000000\n",
      "Presolve removed 69637 rows and 32465 columns\n",
      "Presolve time: 3.06s\n",
      "Presolved: 54633 rows, 18036 columns, 147442 nonzeros\n",
      "Found heuristic solution: objective 0.0622745\n",
      "Variable types: 1 continuous, 18035 integer (18035 binary)\n",
      "\n",
      "Deterministic concurrent LP optimizer: primal and dual simplex\n",
      "Showing first log only...\n",
      "\n",
      "Presolve removed 16 rows and 4 columns\n",
      "Presolved: 54617 rows, 18032 columns, 147403 nonzeros\n",
      "\n",
      "\n",
      "Root simplex log...\n",
      "\n",
      "Iteration    Objective       Primal Inf.    Dual Inf.      Time\n",
      "   11899    7.0066375e-02   0.000000e+00   1.080274e+01      5s\n",
      "Concurrent spin time: 0.00s\n",
      "\n",
      "Solved with dual simplex\n",
      "\n",
      "Root relaxation: objective 2.185577e-01, 32719 iterations, 6.74 seconds\n",
      "Total elapsed time = 10.03s\n",
      "\n",
      "    Nodes    |    Current Node    |     Objective Bounds      |     Work\n",
      " Expl Unexpl |  Obj  Depth IntInf | Incumbent    BestBd   Gap | It/Node Time\n",
      "\n",
      "     0     0    0.21856    0  303    0.06227    0.21856   251%     -   10s\n",
      "H    0     0                       0.2153061    0.21856  1.51%     -   10s\n",
      "H    0     0                       0.2159184    0.21856  1.22%     -   12s\n",
      "H    0     0                       0.2161224    0.21856  1.13%     -   12s\n",
      "H    0     0                       0.2174286    0.21856  0.52%     -   12s\n",
      "H    0     0                       0.2176327    0.21856  0.42%     -   12s\n",
      "     0     0    0.21856    0  287    0.21763    0.21856  0.42%     -   12s\n",
      "     0     0    0.21856    0   67    0.21763    0.21856  0.42%     -   13s\n",
      "H    0     0                       0.2178776    0.21856  0.31%     -   13s\n",
      "     0     0    0.21852    0  113    0.21788    0.21852  0.30%     -   13s\n",
      "H    0     0                       0.2181633    0.21852  0.17%     -   13s\n",
      "     0     0    0.21852    0  164    0.21816    0.21852  0.16%     -   13s\n",
      "     0     0    0.21852    0   27    0.21816    0.21852  0.16%     -   13s\n",
      "     0     0    0.21852    0   87    0.21816    0.21852  0.16%     -   13s\n",
      "     0     0    0.21852    0   91    0.21816    0.21852  0.16%     -   13s\n",
      "     0     0    0.21852    0  107    0.21816    0.21852  0.16%     -   13s\n",
      "     0     0    0.21851    0  107    0.21816    0.21851  0.16%     -   13s\n",
      "     0     0    0.21851    0  101    0.21816    0.21851  0.16%     -   13s\n",
      "     0     0    0.21848    0  102    0.21816    0.21848  0.15%     -   13s\n",
      "     0     0    0.21848    0   85    0.21816    0.21848  0.15%     -   13s\n",
      "     0     0    0.21846    0  109    0.21816    0.21846  0.14%     -   13s\n",
      "     0     0    0.21846    0   85    0.21816    0.21846  0.14%     -   13s\n",
      "     0     2    0.21846    0   85    0.21816    0.21846  0.14%     -   13s\n",
      "*  196    42               8       0.2182449    0.21846  0.10%  12.2   13s\n",
      "\n",
      "Cutting planes:\n",
      "  Cover: 2\n",
      "  MIR: 5\n",
      "  Inf proof: 2\n",
      "\n",
      "Explored 326 nodes (43755 simplex iterations) in 13.88 seconds\n",
      "Thread count was 8 (of 8 available processors)\n",
      "\n",
      "Solution count 9: 0.218245 0.218163 0.217878 ... 0.0622745\n",
      "\n",
      "Optimal solution found (tolerance 1.00e-04)\n",
      "Best objective 2.182448979592e-01, best bound 2.182448979592e-01, gap 0.0000%\n"
     ]
    }
   ],
   "source": [
    "try:\n",
    "    model.optimize()\n",
    "except e:\n",
    "    print(e)"
   ]
  },
  {
   "cell_type": "code",
   "execution_count": 9,
   "metadata": {},
   "outputs": [
    {
     "name": "stdout",
     "output_type": "stream",
     "text": [
      "12\n",
      "13\n",
      "17\n",
      "18\n",
      "21\n",
      "34\n",
      "35\n",
      "36\n",
      "39\n",
      "40\n",
      "44\n",
      "53\n",
      "163\n",
      "238\n",
      "263\n",
      "266\n",
      "271\n",
      "278\n",
      "281\n",
      "287\n",
      "298\n",
      "300\n",
      "317\n",
      "464\n",
      "481\n"
     ]
    }
   ],
   "source": [
    "for key,value in var_seed_dict.items():\n",
    "    if(value.x > 0):\n",
    "        print(key)"
   ]
  },
  {
   "cell_type": "code",
   "execution_count": 10,
   "metadata": {},
   "outputs": [
    {
     "data": {
      "text/plain": [
       "True"
      ]
     },
     "execution_count": 10,
     "metadata": {},
     "output_type": "execute_result"
    }
   ],
   "source": [
    "optimal = (model.Status == GRB.OPTIMAL)\n",
    "optimal"
   ]
  },
  {
   "cell_type": "code",
   "execution_count": 11,
   "metadata": {},
   "outputs": [
    {
     "data": {
      "text/plain": [
       "0.21824489795918373"
      ]
     },
     "execution_count": 11,
     "metadata": {},
     "output_type": "execute_result"
    }
   ],
   "source": [
    "objective = model.ObjVal\n",
    "objective"
   ]
  },
  {
   "cell_type": "code",
   "execution_count": 12,
   "metadata": {},
   "outputs": [
    {
     "data": {
      "text/plain": [
       "4.364897959183674e-06"
      ]
     },
     "execution_count": 12,
     "metadata": {},
     "output_type": "execute_result"
    }
   ],
   "source": [
    "objective/(500*m)"
   ]
  },
  {
   "cell_type": "code",
   "execution_count": null,
   "metadata": {},
   "outputs": [],
   "source": []
  }
 ],
 "metadata": {
  "kernelspec": {
   "display_name": "Python 2",
   "language": "python",
   "name": "python2"
  },
  "language_info": {
   "codemirror_mode": {
    "name": "ipython",
    "version": 2
   },
   "file_extension": ".py",
   "mimetype": "text/x-python",
   "name": "python",
   "nbconvert_exporter": "python",
   "pygments_lexer": "ipython2",
   "version": "2.7.16"
  }
 },
 "nbformat": 4,
 "nbformat_minor": 2
}
