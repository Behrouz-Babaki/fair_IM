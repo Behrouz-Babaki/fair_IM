{
 "cells": [
  {
   "cell_type": "code",
   "execution_count": 1,
   "metadata": {},
   "outputs": [],
   "source": [
    "from itertools import product\n",
    "import os\n",
    "import json"
   ]
  },
  {
   "cell_type": "code",
   "execution_count": 2,
   "metadata": {},
   "outputs": [],
   "source": [
    "job_str = '''#!/bin/bash\n",
    "#SBATCH --account=def-gendrea1\n",
    "#SBATCH --nodes=1\n",
    "#SBATCH --ntasks=1\n",
    "#SBATCH --time=00:40:00\n",
    "#SBATCH --output=out/o{job_id}.out\n",
    "#SBATCH --error=out/o{job_id}.out\n",
    "#SBATCH --job-name=mip.{job_id}\n",
    "\n",
    "module use /scinet/niagara/software/commercial/modules\n",
    "module load gurobi/8.1.1\n",
    "module load anaconda3/5.2.0\n",
    "source activate myenv\n",
    "\n",
    "RUNNER=\"../../code/MIP/Runner_MIP.py\"\n",
    "OUTPUTDIR=\"./results/output\"\n",
    "LOGDIR=\"./results/log\"\n",
    "NETWORKDIR=\"../../code/MIP/data/networks_prob\"\n",
    "\n",
    "$RUNNER {n_samples} $NETWORKDIR/graph_spa_500_{graph_index}.pickle $OUTPUTDIR/sample_{n_samples}/run_{run_id}/output_{graph_index}.txt $LOGDIR/sample_{n_samples}/run_{run_id}/log_{graph_index}.txt\n",
    "source deactivate\n",
    "'''"
   ]
  },
  {
   "cell_type": "code",
   "execution_count": 3,
   "metadata": {},
   "outputs": [],
   "source": [
    "graph_index_options = range(20)\n",
    "run_id_options = range(10)\n",
    "n_samples_options = [10,100,1000,10000]"
   ]
  },
  {
   "cell_type": "code",
   "execution_count": 4,
   "metadata": {},
   "outputs": [],
   "source": [
    "mapping = dict()\n",
    "\n",
    "job_id = 0\n",
    "for graph_index, run_id, n_samples in product(graph_index_options, run_id_options, n_samples_options):\n",
    "    job_id += 1\n",
    "    option = dict()\n",
    "    option['graph_index'] = graph_index\n",
    "    option['job_id'] = job_id\n",
    "    option['run_id'] = run_id\n",
    "    option['n_samples'] = n_samples\n",
    "    outstr = job_str.format(**option)\n",
    "    mapping[job_id] = option\n",
    "    with open('../jobscripts/job%d.sh'%job_id, 'w') as f:\n",
    "        print(outstr, file=f)\n",
    "\n",
    "num_jobs = job_id\n",
    "\n",
    "with open('mapping.json', 'w') as f:\n",
    "    json.dump(mapping, f)"
   ]
  },
  {
   "cell_type": "code",
   "execution_count": 5,
   "metadata": {},
   "outputs": [],
   "source": [
    "with open('../submit.sh', 'w') as f:\n",
    "    print('#!/bin/bash', file=f)\n",
    "    for i in range(num_jobs):\n",
    "        job_id = i + 1\n",
    "        assert(os.path.isfile('../jobscripts/job%d.sh'%job_id))\n",
    "        print('sbatch jobscripts/job%d.sh'%job_id, file=f)\n",
    "        "
   ]
  }
 ],
 "metadata": {
  "kernelspec": {
   "display_name": "Python 3",
   "language": "python",
   "name": "python3"
  },
  "language_info": {
   "codemirror_mode": {
    "name": "ipython",
    "version": 3
   },
   "file_extension": ".py",
   "mimetype": "text/x-python",
   "name": "python",
   "nbconvert_exporter": "python",
   "pygments_lexer": "ipython3",
   "version": "3.7.1"
  }
 },
 "nbformat": 4,
 "nbformat_minor": 2
}
